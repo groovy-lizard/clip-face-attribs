{
 "cells": [
  {
   "cell_type": "code",
   "execution_count": 1,
   "id": "7ea557e4",
   "metadata": {},
   "outputs": [],
   "source": [
    "import pandas as pd\n",
    "from PIL import Image\n",
    "from IPython.display import display"
   ]
  },
  {
   "cell_type": "code",
   "execution_count": null,
   "id": "eaa4e539",
   "metadata": {},
   "outputs": [],
   "source": [
    "preds_df = pd.read_csv(\"../results/raw_gender_ViT-L-14_laion2b_s32b_b82k_val.csv\")\n",
    "ff_root = \"/home/lucasmc/Documents/ufrgs/data/datasets/FairFace\""
   ]
  },
  {
   "cell_type": "code",
   "execution_count": 3,
   "id": "672afcc8",
   "metadata": {},
   "outputs": [
    {
     "data": {
      "text/html": [
       "<div>\n",
       "<style scoped>\n",
       "    .dataframe tbody tr th:only-of-type {\n",
       "        vertical-align: middle;\n",
       "    }\n",
       "\n",
       "    .dataframe tbody tr th {\n",
       "        vertical-align: top;\n",
       "    }\n",
       "\n",
       "    .dataframe thead th {\n",
       "        text-align: right;\n",
       "    }\n",
       "</style>\n",
       "<table border=\"1\" class=\"dataframe\">\n",
       "  <thead>\n",
       "    <tr style=\"text-align: right;\">\n",
       "      <th></th>\n",
       "      <th>file</th>\n",
       "      <th>age</th>\n",
       "      <th>gender</th>\n",
       "      <th>race</th>\n",
       "      <th>gender_preds</th>\n",
       "    </tr>\n",
       "  </thead>\n",
       "  <tbody>\n",
       "    <tr>\n",
       "      <th>0</th>\n",
       "      <td>val/1.jpg</td>\n",
       "      <td>3-9</td>\n",
       "      <td>Male</td>\n",
       "      <td>East Asian</td>\n",
       "      <td>Male</td>\n",
       "    </tr>\n",
       "    <tr>\n",
       "      <th>1</th>\n",
       "      <td>val/2.jpg</td>\n",
       "      <td>50-59</td>\n",
       "      <td>Female</td>\n",
       "      <td>East Asian</td>\n",
       "      <td>Female</td>\n",
       "    </tr>\n",
       "    <tr>\n",
       "      <th>2</th>\n",
       "      <td>val/3.jpg</td>\n",
       "      <td>30-39</td>\n",
       "      <td>Male</td>\n",
       "      <td>White</td>\n",
       "      <td>Male</td>\n",
       "    </tr>\n",
       "    <tr>\n",
       "      <th>3</th>\n",
       "      <td>val/4.jpg</td>\n",
       "      <td>20-29</td>\n",
       "      <td>Female</td>\n",
       "      <td>Latino_Hispanic</td>\n",
       "      <td>Female</td>\n",
       "    </tr>\n",
       "    <tr>\n",
       "      <th>4</th>\n",
       "      <td>val/5.jpg</td>\n",
       "      <td>20-29</td>\n",
       "      <td>Male</td>\n",
       "      <td>Southeast Asian</td>\n",
       "      <td>Male</td>\n",
       "    </tr>\n",
       "    <tr>\n",
       "      <th>...</th>\n",
       "      <td>...</td>\n",
       "      <td>...</td>\n",
       "      <td>...</td>\n",
       "      <td>...</td>\n",
       "      <td>...</td>\n",
       "    </tr>\n",
       "    <tr>\n",
       "      <th>10949</th>\n",
       "      <td>val/10950.jpg</td>\n",
       "      <td>30-39</td>\n",
       "      <td>Male</td>\n",
       "      <td>White</td>\n",
       "      <td>Male</td>\n",
       "    </tr>\n",
       "    <tr>\n",
       "      <th>10950</th>\n",
       "      <td>val/10951.jpg</td>\n",
       "      <td>50-59</td>\n",
       "      <td>Male</td>\n",
       "      <td>White</td>\n",
       "      <td>Male</td>\n",
       "    </tr>\n",
       "    <tr>\n",
       "      <th>10951</th>\n",
       "      <td>val/10952.jpg</td>\n",
       "      <td>60-69</td>\n",
       "      <td>Male</td>\n",
       "      <td>Latino_Hispanic</td>\n",
       "      <td>Male</td>\n",
       "    </tr>\n",
       "    <tr>\n",
       "      <th>10952</th>\n",
       "      <td>val/10953.jpg</td>\n",
       "      <td>20-29</td>\n",
       "      <td>Female</td>\n",
       "      <td>East Asian</td>\n",
       "      <td>Female</td>\n",
       "    </tr>\n",
       "    <tr>\n",
       "      <th>10953</th>\n",
       "      <td>val/10954.jpg</td>\n",
       "      <td>40-49</td>\n",
       "      <td>Male</td>\n",
       "      <td>Latino_Hispanic</td>\n",
       "      <td>Male</td>\n",
       "    </tr>\n",
       "  </tbody>\n",
       "</table>\n",
       "<p>10954 rows × 5 columns</p>\n",
       "</div>"
      ],
      "text/plain": [
       "                file    age  gender             race gender_preds\n",
       "0          val/1.jpg    3-9    Male       East Asian         Male\n",
       "1          val/2.jpg  50-59  Female       East Asian       Female\n",
       "2          val/3.jpg  30-39    Male            White         Male\n",
       "3          val/4.jpg  20-29  Female  Latino_Hispanic       Female\n",
       "4          val/5.jpg  20-29    Male  Southeast Asian         Male\n",
       "...              ...    ...     ...              ...          ...\n",
       "10949  val/10950.jpg  30-39    Male            White         Male\n",
       "10950  val/10951.jpg  50-59    Male            White         Male\n",
       "10951  val/10952.jpg  60-69    Male  Latino_Hispanic         Male\n",
       "10952  val/10953.jpg  20-29  Female       East Asian       Female\n",
       "10953  val/10954.jpg  40-49    Male  Latino_Hispanic         Male\n",
       "\n",
       "[10954 rows x 5 columns]"
      ]
     },
     "execution_count": 3,
     "metadata": {},
     "output_type": "execute_result"
    }
   ],
   "source": [
    "preds_df"
   ]
  },
  {
   "cell_type": "code",
   "execution_count": 4,
   "id": "e2bf190e",
   "metadata": {},
   "outputs": [],
   "source": [
    "errors_df = preds_df[preds_df['gender'] != preds_df['gender_preds']]"
   ]
  },
  {
   "cell_type": "code",
   "execution_count": 5,
   "id": "7f3332e2",
   "metadata": {},
   "outputs": [
    {
     "data": {
      "text/html": [
       "<div>\n",
       "<style scoped>\n",
       "    .dataframe tbody tr th:only-of-type {\n",
       "        vertical-align: middle;\n",
       "    }\n",
       "\n",
       "    .dataframe tbody tr th {\n",
       "        vertical-align: top;\n",
       "    }\n",
       "\n",
       "    .dataframe thead th {\n",
       "        text-align: right;\n",
       "    }\n",
       "</style>\n",
       "<table border=\"1\" class=\"dataframe\">\n",
       "  <thead>\n",
       "    <tr style=\"text-align: right;\">\n",
       "      <th></th>\n",
       "      <th>file</th>\n",
       "      <th>age</th>\n",
       "      <th>gender</th>\n",
       "      <th>race</th>\n",
       "      <th>gender_preds</th>\n",
       "    </tr>\n",
       "  </thead>\n",
       "  <tbody>\n",
       "    <tr>\n",
       "      <th>51</th>\n",
       "      <td>val/52.jpg</td>\n",
       "      <td>3-9</td>\n",
       "      <td>Male</td>\n",
       "      <td>Middle Eastern</td>\n",
       "      <td>Female</td>\n",
       "    </tr>\n",
       "    <tr>\n",
       "      <th>61</th>\n",
       "      <td>val/62.jpg</td>\n",
       "      <td>3-9</td>\n",
       "      <td>Male</td>\n",
       "      <td>Southeast Asian</td>\n",
       "      <td>Female</td>\n",
       "    </tr>\n",
       "    <tr>\n",
       "      <th>103</th>\n",
       "      <td>val/104.jpg</td>\n",
       "      <td>10-19</td>\n",
       "      <td>Male</td>\n",
       "      <td>Indian</td>\n",
       "      <td>Female</td>\n",
       "    </tr>\n",
       "    <tr>\n",
       "      <th>105</th>\n",
       "      <td>val/106.jpg</td>\n",
       "      <td>20-29</td>\n",
       "      <td>Female</td>\n",
       "      <td>Black</td>\n",
       "      <td>Male</td>\n",
       "    </tr>\n",
       "    <tr>\n",
       "      <th>121</th>\n",
       "      <td>val/122.jpg</td>\n",
       "      <td>20-29</td>\n",
       "      <td>Male</td>\n",
       "      <td>Black</td>\n",
       "      <td>Female</td>\n",
       "    </tr>\n",
       "    <tr>\n",
       "      <th>...</th>\n",
       "      <td>...</td>\n",
       "      <td>...</td>\n",
       "      <td>...</td>\n",
       "      <td>...</td>\n",
       "      <td>...</td>\n",
       "    </tr>\n",
       "    <tr>\n",
       "      <th>10831</th>\n",
       "      <td>val/10832.jpg</td>\n",
       "      <td>30-39</td>\n",
       "      <td>Male</td>\n",
       "      <td>Indian</td>\n",
       "      <td>Female</td>\n",
       "    </tr>\n",
       "    <tr>\n",
       "      <th>10855</th>\n",
       "      <td>val/10856.jpg</td>\n",
       "      <td>0-2</td>\n",
       "      <td>Male</td>\n",
       "      <td>White</td>\n",
       "      <td>Female</td>\n",
       "    </tr>\n",
       "    <tr>\n",
       "      <th>10862</th>\n",
       "      <td>val/10863.jpg</td>\n",
       "      <td>60-69</td>\n",
       "      <td>Male</td>\n",
       "      <td>White</td>\n",
       "      <td>Female</td>\n",
       "    </tr>\n",
       "    <tr>\n",
       "      <th>10916</th>\n",
       "      <td>val/10917.jpg</td>\n",
       "      <td>3-9</td>\n",
       "      <td>Male</td>\n",
       "      <td>White</td>\n",
       "      <td>Female</td>\n",
       "    </tr>\n",
       "    <tr>\n",
       "      <th>10941</th>\n",
       "      <td>val/10942.jpg</td>\n",
       "      <td>3-9</td>\n",
       "      <td>Male</td>\n",
       "      <td>Middle Eastern</td>\n",
       "      <td>Female</td>\n",
       "    </tr>\n",
       "  </tbody>\n",
       "</table>\n",
       "<p>581 rows × 5 columns</p>\n",
       "</div>"
      ],
      "text/plain": [
       "                file    age  gender             race gender_preds\n",
       "51        val/52.jpg    3-9    Male   Middle Eastern       Female\n",
       "61        val/62.jpg    3-9    Male  Southeast Asian       Female\n",
       "103      val/104.jpg  10-19    Male           Indian       Female\n",
       "105      val/106.jpg  20-29  Female            Black         Male\n",
       "121      val/122.jpg  20-29    Male            Black       Female\n",
       "...              ...    ...     ...              ...          ...\n",
       "10831  val/10832.jpg  30-39    Male           Indian       Female\n",
       "10855  val/10856.jpg    0-2    Male            White       Female\n",
       "10862  val/10863.jpg  60-69    Male            White       Female\n",
       "10916  val/10917.jpg    3-9    Male            White       Female\n",
       "10941  val/10942.jpg    3-9    Male   Middle Eastern       Female\n",
       "\n",
       "[581 rows x 5 columns]"
      ]
     },
     "execution_count": 5,
     "metadata": {},
     "output_type": "execute_result"
    }
   ],
   "source": [
    "errors_df"
   ]
  },
  {
   "cell_type": "code",
   "execution_count": 6,
   "id": "7fa3bb83",
   "metadata": {},
   "outputs": [
    {
     "name": "stdout",
     "output_type": "stream",
     "text": [
      "Accuracy: 0.9469600146065364\n"
     ]
    }
   ],
   "source": [
    "errors = len(errors_df)\n",
    "total = len(preds_df)\n",
    "correct = total - errors\n",
    "print(f\"Accuracy: {correct / total}\")"
   ]
  },
  {
   "cell_type": "code",
   "execution_count": 7,
   "id": "1cc1cce0",
   "metadata": {},
   "outputs": [],
   "source": [
    "black_errors = errors_df[errors_df['race'] == 'Black']"
   ]
  },
  {
   "cell_type": "code",
   "execution_count": 8,
   "id": "657a626b",
   "metadata": {},
   "outputs": [],
   "source": [
    "black_files = list(black_errors['file'])"
   ]
  },
  {
   "cell_type": "code",
   "execution_count": 9,
   "id": "3dba7d2d",
   "metadata": {},
   "outputs": [
    {
     "data": {
      "text/plain": [
       "104"
      ]
     },
     "execution_count": 9,
     "metadata": {},
     "output_type": "execute_result"
    }
   ],
   "source": [
    "baby_errors = black_errors[black_errors['age'] == '0-2']\n",
    "child_errors = black_errors[black_errors['age'] == '3-9']\n",
    "kid_errors = black_errors[black_errors['age'] == '10-19']\n",
    "\n",
    "young_errors = len(baby_errors) + len(child_errors) + len(kid_errors)\n",
    "young_errors"
   ]
  },
  {
   "cell_type": "code",
   "execution_count": 10,
   "id": "8edd4442",
   "metadata": {},
   "outputs": [
    {
     "data": {
      "text/plain": [
       "160"
      ]
     },
     "execution_count": 10,
     "metadata": {},
     "output_type": "execute_result"
    }
   ],
   "source": [
    "len(black_errors)"
   ]
  },
  {
   "cell_type": "code",
   "execution_count": 11,
   "id": "70d08165",
   "metadata": {},
   "outputs": [],
   "source": [
    "black_iter = iter(black_files)"
   ]
  },
  {
   "cell_type": "code",
   "execution_count": 20,
   "id": "7b8ff37a",
   "metadata": {},
   "outputs": [
    {
     "data": {
      "image/jpeg": "[encoded data removed]",
      "image/png": "[encoded data removed]",
      "text/plain": [
       "<PIL.JpegImagePlugin.JpegImageFile image mode=RGB size=224x224>"
      ]
     },
     "metadata": {},
     "output_type": "display_data"
    },
    {
     "name": "stdout",
     "output_type": "stream",
     "text": [
      "Gender: 3093    Female\n",
      "Name: gender, dtype: object\n",
      "Predicted: 3093    Male\n",
      "Name: gender_preds, dtype: object\n",
      "Age: 3093    30-39\n",
      "Name: age, dtype: object\n"
     ]
    }
   ],
   "source": [
    "# file = next(black_iter)\n",
    "file = \"val/3094.jpg\"\n",
    "img_path = f\"{ff_root}/{file}\"\n",
    "img = Image.open(img_path)\n",
    "display(img)\n",
    "print(f\"Gender: {black_errors[black_errors['file'] == file].gender}\")\n",
    "print(f\"Predicted: {black_errors[black_errors['file'] == file].gender_preds}\")\n",
    "print(f\"Age: {black_errors[black_errors['file'] == file].age}\")"
   ]
  }
 ],
 "metadata": {
  "kernelspec": {
   "display_name": "clipenv",
   "language": "python",
   "name": "python3"
  },
  "language_info": {
   "codemirror_mode": {
    "name": "ipython",
    "version": 3
   },
   "file_extension": ".py",
   "mimetype": "text/x-python",
   "name": "python",
   "nbconvert_exporter": "python",
   "pygments_lexer": "ipython3",
   "version": "3.10.13"
  }
 },
 "nbformat": 4,
 "nbformat_minor": 5
}
