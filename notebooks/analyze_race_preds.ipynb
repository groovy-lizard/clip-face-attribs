{
 "cells": [
  {
   "cell_type": "code",
   "execution_count": 5,
   "id": "e0f4f2d4",
   "metadata": {},
   "outputs": [],
   "source": [
    "import pandas as pd\n",
    "from PIL import Image\n",
    "from IPython.display import display"
   ]
  },
  {
   "cell_type": "code",
   "execution_count": 6,
   "id": "62d30fc3",
   "metadata": {},
   "outputs": [],
   "source": [
    "preds_df = pd.read_csv(\"../results/argp_race_ViT-H-14_laion2b_s32b_b79k_val.csv\")\n",
    "ff_root = \"/home/lmceschini/Documents/ufrgs/data/datasets/FairFace\""
   ]
  },
  {
   "cell_type": "code",
   "execution_count": 7,
   "id": "fcd48571",
   "metadata": {},
   "outputs": [],
   "source": [
    "errors_df = preds_df[preds_df['race'] != preds_df['race_preds']]"
   ]
  },
  {
   "cell_type": "code",
   "execution_count": 8,
   "id": "0791a006",
   "metadata": {},
   "outputs": [
    {
     "name": "stdout",
     "output_type": "stream",
     "text": [
      "Accuracy: 0.6446047106079971\n"
     ]
    }
   ],
   "source": [
    "errors = len(errors_df)\n",
    "total = len(preds_df)\n",
    "correct = total - errors\n",
    "print(f\"Accuracy: {correct / total}\")"
   ]
  }
 ],
 "metadata": {
  "kernelspec": {
   "display_name": "clipenv",
   "language": "python",
   "name": "python3"
  },
  "language_info": {
   "codemirror_mode": {
    "name": "ipython",
    "version": 3
   },
   "file_extension": ".py",
   "mimetype": "text/x-python",
   "name": "python",
   "nbconvert_exporter": "python",
   "pygments_lexer": "ipython3",
   "version": "3.10.13"
  }
 },
 "nbformat": 4,
 "nbformat_minor": 5
}
