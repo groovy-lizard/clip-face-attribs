{
 "cells": [
  {
   "cell_type": "code",
   "execution_count": 2,
   "id": "e0f4f2d4",
   "metadata": {},
   "outputs": [],
   "source": [
    "import pandas as pd\n",
    "from PIL import Image\n",
    "from IPython.display import display"
   ]
  },
  {
   "cell_type": "code",
   "execution_count": 3,
   "id": "62d30fc3",
   "metadata": {},
   "outputs": [],
   "source": [
    "preds_df = pd.read_csv(\"../results/argp_race_ViT-H-14_laion2b_s32b_b79k_val.csv\")\n",
    "ff_root = \"/home/lmceschini/Documents/ufrgs/data/datasets/FairFace\""
   ]
  },
  {
   "cell_type": "code",
   "execution_count": 4,
   "id": "fcd48571",
   "metadata": {},
   "outputs": [],
   "source": [
    "errors_df = preds_df[preds_df['race'] != preds_df['race_preds']]"
   ]
  },
  {
   "cell_type": "code",
   "execution_count": 5,
   "id": "0791a006",
   "metadata": {},
   "outputs": [
    {
     "name": "stdout",
     "output_type": "stream",
     "text": [
      "Accuracy: 0.6933540259266021\n"
     ]
    }
   ],
   "source": [
    "errors = len(errors_df)\n",
    "total = len(preds_df)\n",
    "correct = total - errors\n",
    "print(f\"Accuracy: {correct / total}\")"
   ]
  },
  {
   "cell_type": "code",
   "execution_count": 6,
   "id": "4a7e31c3",
   "metadata": {},
   "outputs": [
    {
     "name": "stdout",
     "output_type": "stream",
     "text": [
      "Latino Accuracy: 0.46087492298213184\n"
     ]
    }
   ],
   "source": [
    "latino_df = preds_df[preds_df['race'] == 'Latino_Hispanic']\n",
    "latino_total = len(latino_df)\n",
    "latino_errors_df = latino_df[latino_df['race'] != latino_df['race_preds']]\n",
    "latino_errors = len(latino_errors_df)\n",
    "latino_correct = latino_total - latino_errors\n",
    "print(f\"Latino Accuracy: {latino_correct / latino_total}\")"
   ]
  },
  {
   "cell_type": "code",
   "execution_count": null,
   "id": "b0e2197b",
   "metadata": {},
   "outputs": [],
   "source": []
  }
 ],
 "metadata": {
  "kernelspec": {
   "display_name": "science",
   "language": "python",
   "name": "python3"
  },
  "language_info": {
   "codemirror_mode": {
    "name": "ipython",
    "version": 3
   },
   "file_extension": ".py",
   "mimetype": "text/x-python",
   "name": "python",
   "nbconvert_exporter": "python",
   "pygments_lexer": "ipython3",
   "version": "3.10.15"
  }
 },
 "nbformat": 4,
 "nbformat_minor": 5
}
