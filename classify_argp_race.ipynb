{
 "cells": [
  {
   "cell_type": "code",
   "execution_count": 1,
   "id": "20f9f7b1",
   "metadata": {},
   "outputs": [],
   "source": [
    "import torch\n",
    "import open_clip\n",
    "import pandas as pd\n",
    "\n",
    "from src.fairface import get_img_name\n",
    "from src.utils import load_json\n",
    "from src.encoder import CLIPEncoder"
   ]
  },
  {
   "cell_type": "code",
   "execution_count": 2,
   "id": "e7e0095c",
   "metadata": {},
   "outputs": [
    {
     "name": "stderr",
     "output_type": "stream",
     "text": [
      "/home/lucasmc/anaconda3/envs/clipenv/lib/python3.10/site-packages/open_clip/factory.py:129: FutureWarning: You are using `torch.load` with `weights_only=False` (the current default value), which uses the default pickle module implicitly. It is possible to construct malicious pickle data which will execute arbitrary code during unpickling (See https://github.com/pytorch/pytorch/blob/main/SECURITY.md#untrusted-models for more details). In a future release, the default value for `weights_only` will be flipped to `True`. This limits the functions that could be executed during unpickling. Arbitrary objects will no longer be allowed to be loaded via this mode unless they are explicitly allowlisted by the user via `torch.serialization.add_safe_globals`. We recommend you start setting `weights_only=True` for any use case where you don't have full control of the loaded file. Please open an issue on GitHub for any issues related to this experimental feature.\n",
      "  checkpoint = torch.load(checkpoint_path, map_location=map_location)\n"
     ]
    }
   ],
   "source": [
    "backbone = \"ViT-H-14\"\n",
    "datasource = \"laion2b_s32b_b79k\"\n",
    "model, _, preprocess = open_clip.create_model_and_transforms(backbone, pretrained=datasource)\n",
    "model.eval()\n",
    "tokenizer = open_clip.get_tokenizer(backbone)"
   ]
  },
  {
   "cell_type": "code",
   "execution_count": 3,
   "id": "e65cf786",
   "metadata": {},
   "outputs": [],
   "source": [
    "label_list = load_json(\"labels/age_race_gender.json\")\n",
    "fface = \"/home/lucasmc/Documents/ufrgs/data/datasets/FairFace/\"\n",
    "split = \"val\"\n",
    "fface_csv = f\"{fface}/fface_{split}.csv\"\n",
    "fface_df = pd.read_csv(fface_csv)\n",
    "files = fface_df['file']\n",
    "embs_path = f\"{fface}/embeddings/{split}/{backbone}/{datasource}\"\n",
    "text = tokenizer(label_list)"
   ]
  },
  {
   "cell_type": "code",
   "execution_count": 4,
   "id": "935d2245",
   "metadata": {},
   "outputs": [
    {
     "data": {
      "text/plain": [
       "array(['East Asian', 'White', 'Latino_Hispanic', 'Southeast Asian',\n",
       "       'Black', 'Indian', 'Middle Eastern'], dtype=object)"
      ]
     },
     "execution_count": 4,
     "metadata": {},
     "output_type": "execute_result"
    }
   ],
   "source": [
    "fface_df['race'].unique()"
   ]
  },
  {
   "cell_type": "code",
   "execution_count": null,
   "id": "20861897",
   "metadata": {},
   "outputs": [],
   "source": [
    "def get_label_from_prompt(label):\n",
    "    if \"white\" in label:\n",
    "        return \"White\"\n",
    "    elif \"latino hispanic\" in label:\n",
    "        return \"Latino_Hispanic\"\n",
    "    elif \"southeast asian\" in label:\n",
    "        return \"Southeast Asian\"\n",
    "    elif \"east asian\" in label:\n",
    "        return \"East Asian\"\n",
    "    elif \"black\" in label:\n",
    "        return \"Black\"\n",
    "    elif \"indian\" in label:\n",
    "        return \"Indian\"\n",
    "    elif \"middle eastern\" in label:\n",
    "        return \"Middle Eastern\"\n",
    "    else:\n",
    "        return \"None\""
   ]
  },
  {
   "cell_type": "code",
   "execution_count": 16,
   "id": "bfd87b93",
   "metadata": {},
   "outputs": [],
   "source": [
    "preds_dict = {\n",
    "    \"file\": [],\n",
    "    \"race_preds\": []\n",
    "}"
   ]
  },
  {
   "cell_type": "code",
   "execution_count": 17,
   "id": "b007d586",
   "metadata": {},
   "outputs": [
    {
     "name": "stderr",
     "output_type": "stream",
     "text": [
      "/home/lucasmc/Documents/ufrgs/clip-face-attribs/src/encoder.py:70: FutureWarning: You are using `torch.load` with `weights_only=False` (the current default value), which uses the default pickle module implicitly. It is possible to construct malicious pickle data which will execute arbitrary code during unpickling (See https://github.com/pytorch/pytorch/blob/main/SECURITY.md#untrusted-models for more details). In a future release, the default value for `weights_only` will be flipped to `True`. This limits the functions that could be executed during unpickling. Arbitrary objects will no longer be allowed to be loaded via this mode unless they are explicitly allowlisted by the user via `torch.serialization.add_safe_globals`. We recommend you start setting `weights_only=True` for any use case where you don't have full control of the loaded file. Please open an issue on GitHub for any issues related to this experimental feature.\n",
      "  return torch.load(emb_path)\n"
     ]
    }
   ],
   "source": [
    "with torch.no_grad(), torch.autocast(\"cuda\"):\n",
    "    text_features = model.encode_text(text).to(device=\"cuda\")\n",
    "    text_features /= text_features.norm(dim=-1, keepdim=True)\n",
    "    for file in files:\n",
    "        img_name = get_img_name(file)\n",
    "        image_features = CLIPEncoder.load_embeddings(f\"{embs_path}/{img_name}.npy\")\n",
    "        image_features = image_features.to(device=\"cuda\")\n",
    "        text_probs = (100.0 * image_features @ text_features.T).softmax(dim=-1)\n",
    "        winner = text_probs.argmax()\n",
    "        label_winner = label_list[winner]\n",
    "        preds_dict['file'].append(file)\n",
    "        preds_dict['race_preds'].append(get_label_from_prompt(label_winner))\n"
   ]
  },
  {
   "cell_type": "code",
   "execution_count": 18,
   "id": "ab2c423b",
   "metadata": {},
   "outputs": [
    {
     "data": {
      "text/html": [
       "<div>\n",
       "<style scoped>\n",
       "    .dataframe tbody tr th:only-of-type {\n",
       "        vertical-align: middle;\n",
       "    }\n",
       "\n",
       "    .dataframe tbody tr th {\n",
       "        vertical-align: top;\n",
       "    }\n",
       "\n",
       "    .dataframe thead th {\n",
       "        text-align: right;\n",
       "    }\n",
       "</style>\n",
       "<table border=\"1\" class=\"dataframe\">\n",
       "  <thead>\n",
       "    <tr style=\"text-align: right;\">\n",
       "      <th></th>\n",
       "      <th>file</th>\n",
       "      <th>age</th>\n",
       "      <th>gender</th>\n",
       "      <th>race</th>\n",
       "      <th>race_preds</th>\n",
       "    </tr>\n",
       "  </thead>\n",
       "  <tbody>\n",
       "    <tr>\n",
       "      <th>0</th>\n",
       "      <td>val/1.jpg</td>\n",
       "      <td>3-9</td>\n",
       "      <td>Male</td>\n",
       "      <td>East Asian</td>\n",
       "      <td>Southeast Asian</td>\n",
       "    </tr>\n",
       "    <tr>\n",
       "      <th>1</th>\n",
       "      <td>val/2.jpg</td>\n",
       "      <td>50-59</td>\n",
       "      <td>Female</td>\n",
       "      <td>East Asian</td>\n",
       "      <td>East Asian</td>\n",
       "    </tr>\n",
       "    <tr>\n",
       "      <th>2</th>\n",
       "      <td>val/3.jpg</td>\n",
       "      <td>30-39</td>\n",
       "      <td>Male</td>\n",
       "      <td>White</td>\n",
       "      <td>White</td>\n",
       "    </tr>\n",
       "    <tr>\n",
       "      <th>3</th>\n",
       "      <td>val/4.jpg</td>\n",
       "      <td>20-29</td>\n",
       "      <td>Female</td>\n",
       "      <td>Latino_Hispanic</td>\n",
       "      <td>Latino_Hispanic</td>\n",
       "    </tr>\n",
       "    <tr>\n",
       "      <th>4</th>\n",
       "      <td>val/5.jpg</td>\n",
       "      <td>20-29</td>\n",
       "      <td>Male</td>\n",
       "      <td>Southeast Asian</td>\n",
       "      <td>Southeast Asian</td>\n",
       "    </tr>\n",
       "  </tbody>\n",
       "</table>\n",
       "</div>"
      ],
      "text/plain": [
       "        file    age  gender             race       race_preds\n",
       "0  val/1.jpg    3-9    Male       East Asian  Southeast Asian\n",
       "1  val/2.jpg  50-59  Female       East Asian       East Asian\n",
       "2  val/3.jpg  30-39    Male            White            White\n",
       "3  val/4.jpg  20-29  Female  Latino_Hispanic  Latino_Hispanic\n",
       "4  val/5.jpg  20-29    Male  Southeast Asian  Southeast Asian"
      ]
     },
     "execution_count": 18,
     "metadata": {},
     "output_type": "execute_result"
    }
   ],
   "source": [
    "preds_df = pd.DataFrame(preds_dict)\n",
    "result_df = pd.merge(fface_df, preds_df, on=\"file\")\n",
    "result_df.set_index('file')\n",
    "result_df.drop(columns=['service_test'], inplace=True)\n",
    "result_df.head()"
   ]
  },
  {
   "cell_type": "code",
   "execution_count": 19,
   "id": "4971f186",
   "metadata": {},
   "outputs": [],
   "source": [
    "out_f = f\"./results/argp_race_{backbone}_{datasource}_{split}.csv\"\n",
    "result_df.to_csv(out_f, index=False)"
   ]
  },
  {
   "cell_type": "code",
   "execution_count": 20,
   "id": "91327be3",
   "metadata": {},
   "outputs": [
    {
     "data": {
      "text/plain": [
       "race_preds\n",
       "Middle Eastern     2301\n",
       "White              1669\n",
       "Southeast Asian    1615\n",
       "East Asian         1480\n",
       "Indian             1443\n",
       "Black              1334\n",
       "Latino_Hispanic    1112\n",
       "Name: count, dtype: int64"
      ]
     },
     "execution_count": 20,
     "metadata": {},
     "output_type": "execute_result"
    }
   ],
   "source": [
    "result_df['race_preds'].value_counts()"
   ]
  }
 ],
 "metadata": {
  "kernelspec": {
   "display_name": "clipenv",
   "language": "python",
   "name": "python3"
  },
  "language_info": {
   "codemirror_mode": {
    "name": "ipython",
    "version": 3
   },
   "file_extension": ".py",
   "mimetype": "text/x-python",
   "name": "python",
   "nbconvert_exporter": "python",
   "pygments_lexer": "ipython3",
   "version": "3.10.13"
  }
 },
 "nbformat": 4,
 "nbformat_minor": 5
}
